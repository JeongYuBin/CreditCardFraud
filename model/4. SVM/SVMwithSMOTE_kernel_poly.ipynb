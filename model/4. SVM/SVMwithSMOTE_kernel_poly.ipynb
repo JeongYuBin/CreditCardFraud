{
 "cells": [
  {
   "cell_type": "code",
   "execution_count": 1,
   "metadata": {
    "executionInfo": {
     "elapsed": 1636,
     "status": "ok",
     "timestamp": 1699952766470,
     "user": {
      "displayName": "현예닮",
      "userId": "09810217778273348387"
     },
     "user_tz": -540
    },
    "id": "BfTAdj6_lIOs"
   },
   "outputs": [],
   "source": [
    "#Importing librairies\n",
    "import pandas as pd\n",
    "import numpy as np\n",
    "\n",
    "# Scikit-learn library: For SVM\n",
    "from sklearn import preprocessing\n",
    "from sklearn.metrics import confusion_matrix\n",
    "from sklearn import svm\n",
    "\n",
    "import itertools\n",
    "\n",
    "# Matplotlib library to plot the charts\n",
    "import matplotlib.pyplot as plt\n",
    "import matplotlib.mlab as mlab\n",
    "\n",
    "# Library for the statistic data vizualisation\n",
    "import seaborn as sns\n",
    "\n",
    "%matplotlib inline"
   ]
  },
  {
   "cell_type": "code",
   "execution_count": 2,
   "metadata": {
    "colab": {
     "base_uri": "https://localhost:8080/",
     "height": 255
    },
    "executionInfo": {
     "elapsed": 5127,
     "status": "ok",
     "timestamp": 1699952771594,
     "user": {
      "displayName": "현예닮",
      "userId": "09810217778273348387"
     },
     "user_tz": -540
    },
    "id": "Ne7ZmuEYlI8X",
    "outputId": "a94908f4-e24e-4405-c918-c14a5c2e699f"
   },
   "outputs": [
    {
     "data": {
      "text/html": [
       "<div>\n",
       "<style scoped>\n",
       "    .dataframe tbody tr th:only-of-type {\n",
       "        vertical-align: middle;\n",
       "    }\n",
       "\n",
       "    .dataframe tbody tr th {\n",
       "        vertical-align: top;\n",
       "    }\n",
       "\n",
       "    .dataframe thead th {\n",
       "        text-align: right;\n",
       "    }\n",
       "</style>\n",
       "<table border=\"1\" class=\"dataframe\">\n",
       "  <thead>\n",
       "    <tr style=\"text-align: right;\">\n",
       "      <th></th>\n",
       "      <th>Time</th>\n",
       "      <th>V1</th>\n",
       "      <th>V2</th>\n",
       "      <th>V3</th>\n",
       "      <th>V4</th>\n",
       "      <th>V5</th>\n",
       "      <th>V6</th>\n",
       "      <th>V7</th>\n",
       "      <th>V8</th>\n",
       "      <th>V9</th>\n",
       "      <th>...</th>\n",
       "      <th>V21</th>\n",
       "      <th>V22</th>\n",
       "      <th>V23</th>\n",
       "      <th>V24</th>\n",
       "      <th>V25</th>\n",
       "      <th>V26</th>\n",
       "      <th>V27</th>\n",
       "      <th>V28</th>\n",
       "      <th>Amount</th>\n",
       "      <th>Class</th>\n",
       "    </tr>\n",
       "  </thead>\n",
       "  <tbody>\n",
       "    <tr>\n",
       "      <th>0</th>\n",
       "      <td>0.0</td>\n",
       "      <td>-1.359807</td>\n",
       "      <td>-0.072781</td>\n",
       "      <td>2.536347</td>\n",
       "      <td>1.378155</td>\n",
       "      <td>-0.338321</td>\n",
       "      <td>0.462388</td>\n",
       "      <td>0.239599</td>\n",
       "      <td>0.098698</td>\n",
       "      <td>0.363787</td>\n",
       "      <td>...</td>\n",
       "      <td>-0.018307</td>\n",
       "      <td>0.277838</td>\n",
       "      <td>-0.110474</td>\n",
       "      <td>0.066928</td>\n",
       "      <td>0.128539</td>\n",
       "      <td>-0.189115</td>\n",
       "      <td>0.133558</td>\n",
       "      <td>-0.021053</td>\n",
       "      <td>149.62</td>\n",
       "      <td>0</td>\n",
       "    </tr>\n",
       "    <tr>\n",
       "      <th>1</th>\n",
       "      <td>0.0</td>\n",
       "      <td>1.191857</td>\n",
       "      <td>0.266151</td>\n",
       "      <td>0.166480</td>\n",
       "      <td>0.448154</td>\n",
       "      <td>0.060018</td>\n",
       "      <td>-0.082361</td>\n",
       "      <td>-0.078803</td>\n",
       "      <td>0.085102</td>\n",
       "      <td>-0.255425</td>\n",
       "      <td>...</td>\n",
       "      <td>-0.225775</td>\n",
       "      <td>-0.638672</td>\n",
       "      <td>0.101288</td>\n",
       "      <td>-0.339846</td>\n",
       "      <td>0.167170</td>\n",
       "      <td>0.125895</td>\n",
       "      <td>-0.008983</td>\n",
       "      <td>0.014724</td>\n",
       "      <td>2.69</td>\n",
       "      <td>0</td>\n",
       "    </tr>\n",
       "    <tr>\n",
       "      <th>2</th>\n",
       "      <td>1.0</td>\n",
       "      <td>-1.358354</td>\n",
       "      <td>-1.340163</td>\n",
       "      <td>1.773209</td>\n",
       "      <td>0.379780</td>\n",
       "      <td>-0.503198</td>\n",
       "      <td>1.800499</td>\n",
       "      <td>0.791461</td>\n",
       "      <td>0.247676</td>\n",
       "      <td>-1.514654</td>\n",
       "      <td>...</td>\n",
       "      <td>0.247998</td>\n",
       "      <td>0.771679</td>\n",
       "      <td>0.909412</td>\n",
       "      <td>-0.689281</td>\n",
       "      <td>-0.327642</td>\n",
       "      <td>-0.139097</td>\n",
       "      <td>-0.055353</td>\n",
       "      <td>-0.059752</td>\n",
       "      <td>378.66</td>\n",
       "      <td>0</td>\n",
       "    </tr>\n",
       "    <tr>\n",
       "      <th>3</th>\n",
       "      <td>1.0</td>\n",
       "      <td>-0.966272</td>\n",
       "      <td>-0.185226</td>\n",
       "      <td>1.792993</td>\n",
       "      <td>-0.863291</td>\n",
       "      <td>-0.010309</td>\n",
       "      <td>1.247203</td>\n",
       "      <td>0.237609</td>\n",
       "      <td>0.377436</td>\n",
       "      <td>-1.387024</td>\n",
       "      <td>...</td>\n",
       "      <td>-0.108300</td>\n",
       "      <td>0.005274</td>\n",
       "      <td>-0.190321</td>\n",
       "      <td>-1.175575</td>\n",
       "      <td>0.647376</td>\n",
       "      <td>-0.221929</td>\n",
       "      <td>0.062723</td>\n",
       "      <td>0.061458</td>\n",
       "      <td>123.50</td>\n",
       "      <td>0</td>\n",
       "    </tr>\n",
       "    <tr>\n",
       "      <th>4</th>\n",
       "      <td>2.0</td>\n",
       "      <td>-1.158233</td>\n",
       "      <td>0.877737</td>\n",
       "      <td>1.548718</td>\n",
       "      <td>0.403034</td>\n",
       "      <td>-0.407193</td>\n",
       "      <td>0.095921</td>\n",
       "      <td>0.592941</td>\n",
       "      <td>-0.270533</td>\n",
       "      <td>0.817739</td>\n",
       "      <td>...</td>\n",
       "      <td>-0.009431</td>\n",
       "      <td>0.798278</td>\n",
       "      <td>-0.137458</td>\n",
       "      <td>0.141267</td>\n",
       "      <td>-0.206010</td>\n",
       "      <td>0.502292</td>\n",
       "      <td>0.219422</td>\n",
       "      <td>0.215153</td>\n",
       "      <td>69.99</td>\n",
       "      <td>0</td>\n",
       "    </tr>\n",
       "  </tbody>\n",
       "</table>\n",
       "<p>5 rows × 31 columns</p>\n",
       "</div>"
      ],
      "text/plain": [
       "   Time        V1        V2        V3        V4        V5        V6        V7   \n",
       "0   0.0 -1.359807 -0.072781  2.536347  1.378155 -0.338321  0.462388  0.239599  \\\n",
       "1   0.0  1.191857  0.266151  0.166480  0.448154  0.060018 -0.082361 -0.078803   \n",
       "2   1.0 -1.358354 -1.340163  1.773209  0.379780 -0.503198  1.800499  0.791461   \n",
       "3   1.0 -0.966272 -0.185226  1.792993 -0.863291 -0.010309  1.247203  0.237609   \n",
       "4   2.0 -1.158233  0.877737  1.548718  0.403034 -0.407193  0.095921  0.592941   \n",
       "\n",
       "         V8        V9  ...       V21       V22       V23       V24       V25   \n",
       "0  0.098698  0.363787  ... -0.018307  0.277838 -0.110474  0.066928  0.128539  \\\n",
       "1  0.085102 -0.255425  ... -0.225775 -0.638672  0.101288 -0.339846  0.167170   \n",
       "2  0.247676 -1.514654  ...  0.247998  0.771679  0.909412 -0.689281 -0.327642   \n",
       "3  0.377436 -1.387024  ... -0.108300  0.005274 -0.190321 -1.175575  0.647376   \n",
       "4 -0.270533  0.817739  ... -0.009431  0.798278 -0.137458  0.141267 -0.206010   \n",
       "\n",
       "        V26       V27       V28  Amount  Class  \n",
       "0 -0.189115  0.133558 -0.021053  149.62      0  \n",
       "1  0.125895 -0.008983  0.014724    2.69      0  \n",
       "2 -0.139097 -0.055353 -0.059752  378.66      0  \n",
       "3 -0.221929  0.062723  0.061458  123.50      0  \n",
       "4  0.502292  0.219422  0.215153   69.99      0  \n",
       "\n",
       "[5 rows x 31 columns]"
      ]
     },
     "execution_count": 2,
     "metadata": {},
     "output_type": "execute_result"
    }
   ],
   "source": [
    "# 데이터 불러오기\n",
    "data = pd.read_csv('creditcard_data.csv')\n",
    "data.head()"
   ]
  },
  {
   "cell_type": "code",
   "execution_count": 3,
   "metadata": {
    "colab": {
     "base_uri": "https://localhost:8080/"
    },
    "executionInfo": {
     "elapsed": 7,
     "status": "ok",
     "timestamp": 1699952771594,
     "user": {
      "displayName": "현예닮",
      "userId": "09810217778273348387"
     },
     "user_tz": -540
    },
    "id": "JlxCnhQ7lMiW",
    "outputId": "a99acf83-f49f-40e0-c73c-a303697bea1b"
   },
   "outputs": [
    {
     "name": "stdout",
     "output_type": "stream",
     "text": [
      "<class 'pandas.core.frame.DataFrame'>\n",
      "RangeIndex: 284806 entries, 0 to 284805\n",
      "Data columns (total 31 columns):\n",
      " #   Column  Non-Null Count   Dtype  \n",
      "---  ------  --------------   -----  \n",
      " 0   Time    284806 non-null  float64\n",
      " 1   V1      284806 non-null  float64\n",
      " 2   V2      284806 non-null  float64\n",
      " 3   V3      284806 non-null  float64\n",
      " 4   V4      284806 non-null  float64\n",
      " 5   V5      284806 non-null  float64\n",
      " 6   V6      284806 non-null  float64\n",
      " 7   V7      284806 non-null  float64\n",
      " 8   V8      284806 non-null  float64\n",
      " 9   V9      284806 non-null  float64\n",
      " 10  V10     284806 non-null  float64\n",
      " 11  V11     284806 non-null  float64\n",
      " 12  V12     284806 non-null  float64\n",
      " 13  V13     284806 non-null  float64\n",
      " 14  V14     284806 non-null  float64\n",
      " 15  V15     284806 non-null  float64\n",
      " 16  V16     284806 non-null  float64\n",
      " 17  V17     284806 non-null  float64\n",
      " 18  V18     284806 non-null  float64\n",
      " 19  V19     284806 non-null  float64\n",
      " 20  V20     284806 non-null  float64\n",
      " 21  V21     284806 non-null  float64\n",
      " 22  V22     284806 non-null  float64\n",
      " 23  V23     284806 non-null  float64\n",
      " 24  V24     284806 non-null  float64\n",
      " 25  V25     284806 non-null  float64\n",
      " 26  V26     284806 non-null  float64\n",
      " 27  V27     284806 non-null  float64\n",
      " 28  V28     284806 non-null  float64\n",
      " 29  Amount  284806 non-null  float64\n",
      " 30  Class   284806 non-null  int64  \n",
      "dtypes: float64(30), int64(1)\n",
      "memory usage: 67.4 MB\n"
     ]
    }
   ],
   "source": [
    "data.info()"
   ]
  },
  {
   "cell_type": "code",
   "execution_count": 4,
   "metadata": {
    "colab": {
     "base_uri": "https://localhost:8080/"
    },
    "executionInfo": {
     "elapsed": 5,
     "status": "ok",
     "timestamp": 1699952771594,
     "user": {
      "displayName": "현예닮",
      "userId": "09810217778273348387"
     },
     "user_tz": -540
    },
    "id": "uWqYc9YQl2Mx",
    "outputId": "facccf06-410c-49cb-d3dc-321f9d8ec2ac"
   },
   "outputs": [
    {
     "data": {
      "text/plain": [
       "(284806, 31)"
      ]
     },
     "execution_count": 4,
     "metadata": {},
     "output_type": "execute_result"
    }
   ],
   "source": [
    "data.shape"
   ]
  },
  {
   "cell_type": "markdown",
   "metadata": {
    "id": "jyLkJu4N5RT5"
   },
   "source": [
    "# 전처리"
   ]
  },
  {
   "cell_type": "markdown",
   "metadata": {
    "id": "LVux314N5TMz"
   },
   "source": [
    "## 1) 중복 제거"
   ]
  },
  {
   "cell_type": "code",
   "execution_count": 5,
   "metadata": {
    "colab": {
     "base_uri": "https://localhost:8080/"
    },
    "executionInfo": {
     "elapsed": 572,
     "status": "ok",
     "timestamp": 1699952772163,
     "user": {
      "displayName": "현예닮",
      "userId": "09810217778273348387"
     },
     "user_tz": -540
    },
    "id": "7kAK9vxFB2dg",
    "outputId": "f46781a4-f617-4e60-a205-6e2a0133db6e"
   },
   "outputs": [
    {
     "name": "stdout",
     "output_type": "stream",
     "text": [
      "Total duplicate rows = 1081\n",
      "Data shape before removing duplicates = (284806, 31)\n"
     ]
    }
   ],
   "source": [
    "# 중복된 row 이는지 확인\n",
    "print(f\"Total duplicate rows = {data.duplicated().sum()}\")\n",
    "print(f\"Data shape before removing duplicates = {data.shape}\")"
   ]
  },
  {
   "cell_type": "code",
   "execution_count": 6,
   "metadata": {
    "colab": {
     "base_uri": "https://localhost:8080/"
    },
    "executionInfo": {
     "elapsed": 1163,
     "status": "ok",
     "timestamp": 1699952773324,
     "user": {
      "displayName": "현예닮",
      "userId": "09810217778273348387"
     },
     "user_tz": -540
    },
    "id": "fttWcl8b46TV",
    "outputId": "665142ec-7d66-44e2-b466-d660a838c540"
   },
   "outputs": [
    {
     "name": "stdout",
     "output_type": "stream",
     "text": [
      "Data shape after removing duplicates = (283725, 31)\n"
     ]
    }
   ],
   "source": [
    "# 중복된 행 제거\n",
    "data_cleaned = data.drop_duplicates()\n",
    "\n",
    "# 중복 제거 후의 데이터셋 크기 확인\n",
    "print(f\"Data shape after removing duplicates = {data_cleaned.shape}\")"
   ]
  },
  {
   "cell_type": "markdown",
   "metadata": {
    "id": "NAv2roV150Dg"
   },
   "source": [
    "## 데이터 불균형 처리 - SMOTE"
   ]
  },
  {
   "cell_type": "code",
   "execution_count": 7,
   "metadata": {
    "colab": {
     "base_uri": "https://localhost:8080/"
    },
    "executionInfo": {
     "elapsed": 4745,
     "status": "ok",
     "timestamp": 1699952778587,
     "user": {
      "displayName": "현예닮",
      "userId": "09810217778273348387"
     },
     "user_tz": -540
    },
    "id": "UzgvUeZ75x8Q",
    "outputId": "c9265bfd-4d42-4aa9-8abd-dd6ade7601c2"
   },
   "outputs": [
    {
     "name": "stdout",
     "output_type": "stream",
     "text": [
      "Requirement already satisfied: imbalanced-learn in c:\\users\\yeada\\anaconda3\\lib\\site-packages (0.11.0)\n",
      "Requirement already satisfied: numpy>=1.17.3 in c:\\users\\yeada\\anaconda3\\lib\\site-packages (from imbalanced-learn) (1.20.3)\n",
      "Requirement already satisfied: scipy>=1.5.0 in c:\\users\\yeada\\anaconda3\\lib\\site-packages (from imbalanced-learn) (1.10.1)\n",
      "Requirement already satisfied: scikit-learn>=1.0.2 in c:\\users\\yeada\\appdata\\roaming\\python\\python39\\site-packages (from imbalanced-learn) (1.0.2)\n",
      "Requirement already satisfied: joblib>=1.1.1 in c:\\users\\yeada\\anaconda3\\lib\\site-packages (from imbalanced-learn) (1.2.0)\n",
      "Requirement already satisfied: threadpoolctl>=2.0.0 in c:\\users\\yeada\\anaconda3\\lib\\site-packages (from imbalanced-learn) (2.2.0)\n"
     ]
    },
    {
     "name": "stderr",
     "output_type": "stream",
     "text": [
      "WARNING: Ignoring invalid distribution -rotobuf (c:\\users\\yeada\\anaconda3\\lib\\site-packages)\n",
      "WARNING: Ignoring invalid distribution -rotobuf (c:\\users\\yeada\\anaconda3\\lib\\site-packages)\n",
      "\n",
      "[notice] A new release of pip is available: 23.1.2 -> 23.3.1\n",
      "[notice] To update, run: python.exe -m pip install --upgrade pip\n"
     ]
    }
   ],
   "source": [
    "!pip install imbalanced-learn"
   ]
  },
  {
   "cell_type": "code",
   "execution_count": 8,
   "metadata": {
    "colab": {
     "base_uri": "https://localhost:8080/"
    },
    "executionInfo": {
     "elapsed": 7,
     "status": "ok",
     "timestamp": 1699952778587,
     "user": {
      "displayName": "현예닮",
      "userId": "09810217778273348387"
     },
     "user_tz": -540
    },
    "id": "9gqb5gM754NW",
    "outputId": "1096808b-88fd-4067-da43-1fb2c43eb2cb"
   },
   "outputs": [
    {
     "data": {
      "text/plain": [
       "Class\n",
       "0    283252\n",
       "1       473\n",
       "Name: count, dtype: int64"
      ]
     },
     "execution_count": 8,
     "metadata": {},
     "output_type": "execute_result"
    }
   ],
   "source": [
    "data_cleaned['Class'].value_counts()"
   ]
  },
  {
   "cell_type": "code",
   "execution_count": 9,
   "metadata": {
    "colab": {
     "base_uri": "https://localhost:8080/"
    },
    "executionInfo": {
     "elapsed": 692,
     "status": "ok",
     "timestamp": 1699952779274,
     "user": {
      "displayName": "현예닮",
      "userId": "09810217778273348387"
     },
     "user_tz": -540
    },
    "id": "BmnpoU3g531G",
    "outputId": "148a37ef-e714-4edb-baa0-535f0835c65b"
   },
   "outputs": [
    {
     "name": "stdout",
     "output_type": "stream",
     "text": [
      "<class 'pandas.core.frame.DataFrame'>\n",
      "Index: 283725 entries, 0 to 284805\n",
      "Data columns (total 30 columns):\n",
      " #   Column  Non-Null Count   Dtype  \n",
      "---  ------  --------------   -----  \n",
      " 0   Time    283725 non-null  float64\n",
      " 1   V1      283725 non-null  float64\n",
      " 2   V2      283725 non-null  float64\n",
      " 3   V3      283725 non-null  float64\n",
      " 4   V4      283725 non-null  float64\n",
      " 5   V5      283725 non-null  float64\n",
      " 6   V6      283725 non-null  float64\n",
      " 7   V7      283725 non-null  float64\n",
      " 8   V8      283725 non-null  float64\n",
      " 9   V9      283725 non-null  float64\n",
      " 10  V10     283725 non-null  float64\n",
      " 11  V11     283725 non-null  float64\n",
      " 12  V12     283725 non-null  float64\n",
      " 13  V13     283725 non-null  float64\n",
      " 14  V14     283725 non-null  float64\n",
      " 15  V15     283725 non-null  float64\n",
      " 16  V16     283725 non-null  float64\n",
      " 17  V17     283725 non-null  float64\n",
      " 18  V18     283725 non-null  float64\n",
      " 19  V19     283725 non-null  float64\n",
      " 20  V20     283725 non-null  float64\n",
      " 21  V21     283725 non-null  float64\n",
      " 22  V22     283725 non-null  float64\n",
      " 23  V23     283725 non-null  float64\n",
      " 24  V24     283725 non-null  float64\n",
      " 25  V25     283725 non-null  float64\n",
      " 26  V26     283725 non-null  float64\n",
      " 27  V27     283725 non-null  float64\n",
      " 28  V28     283725 non-null  float64\n",
      " 29  Amount  283725 non-null  float64\n",
      "dtypes: float64(30)\n",
      "memory usage: 67.1 MB\n",
      "None\n",
      "0         0\n",
      "1         0\n",
      "2         0\n",
      "3         0\n",
      "4         0\n",
      "         ..\n",
      "284801    0\n",
      "284802    0\n",
      "284803    0\n",
      "284804    0\n",
      "284805    0\n",
      "Name: Class, Length: 283725, dtype: int64\n"
     ]
    }
   ],
   "source": [
    "y = data_cleaned['Class']\n",
    "X = data_cleaned.drop(['Class'], axis = 1)\n",
    "print(X.info())\n",
    "print(y)"
   ]
  },
  {
   "cell_type": "code",
   "execution_count": 10,
   "metadata": {
    "colab": {
     "base_uri": "https://localhost:8080/"
    },
    "executionInfo": {
     "elapsed": 550,
     "status": "ok",
     "timestamp": 1699952779821,
     "user": {
      "displayName": "현예닮",
      "userId": "09810217778273348387"
     },
     "user_tz": -540
    },
    "id": "XihaO71w6AHl",
    "outputId": "b9d591db-6e4b-4b08-883e-61e79662c5d6"
   },
   "outputs": [
    {
     "data": {
      "text/plain": [
       "Class\n",
       "0    283252\n",
       "1    283252\n",
       "Name: count, dtype: int64"
      ]
     },
     "execution_count": 10,
     "metadata": {},
     "output_type": "execute_result"
    }
   ],
   "source": [
    "from imblearn.over_sampling import SMOTE\n",
    "# SMOTE 객체 생성\n",
    "smote = SMOTE(random_state=42)\n",
    "\n",
    "# 데이터 업샘플링 수행\n",
    "X_resampled, y_resampled = smote.fit_resample(X, y)\n",
    "\n",
    "# 업샘플링된 데이터의 클래스 분포 확인\n",
    "resampled_class_distribution = pd.Series(y_resampled).value_counts()\n",
    "\n",
    "resampled_class_distribution"
   ]
  },
  {
   "cell_type": "code",
   "execution_count": 11,
   "metadata": {
    "colab": {
     "base_uri": "https://localhost:8080/"
    },
    "executionInfo": {
     "elapsed": 5,
     "status": "ok",
     "timestamp": 1699952781116,
     "user": {
      "displayName": "현예닮",
      "userId": "09810217778273348387"
     },
     "user_tz": -540
    },
    "id": "eQqpMvos6EV5",
    "outputId": "a1ac3849-96b3-4c29-96c8-2fcdb0dcefb0"
   },
   "outputs": [
    {
     "data": {
      "text/plain": [
       "(566504, 31)"
      ]
     },
     "execution_count": 11,
     "metadata": {},
     "output_type": "execute_result"
    }
   ],
   "source": [
    "data_cleaned = pd.concat([X_resampled, y_resampled], axis=1)\n",
    "data_cleaned.shape"
   ]
  },
  {
   "cell_type": "markdown",
   "metadata": {
    "id": "b5RWP-9i5Wqv"
   },
   "source": [
    "## 스케일링"
   ]
  },
  {
   "cell_type": "code",
   "execution_count": 12,
   "metadata": {
    "colab": {
     "base_uri": "https://localhost:8080/",
     "height": 255
    },
    "executionInfo": {
     "elapsed": 554,
     "status": "ok",
     "timestamp": 1699952784540,
     "user": {
      "displayName": "현예닮",
      "userId": "09810217778273348387"
     },
     "user_tz": -540
    },
    "id": "n7DXhTBr6Wvn",
    "outputId": "18399f46-a278-4596-97c4-1cc1dce5b1b6"
   },
   "outputs": [
    {
     "data": {
      "text/html": [
       "<div>\n",
       "<style scoped>\n",
       "    .dataframe tbody tr th:only-of-type {\n",
       "        vertical-align: middle;\n",
       "    }\n",
       "\n",
       "    .dataframe tbody tr th {\n",
       "        vertical-align: top;\n",
       "    }\n",
       "\n",
       "    .dataframe thead th {\n",
       "        text-align: right;\n",
       "    }\n",
       "</style>\n",
       "<table border=\"1\" class=\"dataframe\">\n",
       "  <thead>\n",
       "    <tr style=\"text-align: right;\">\n",
       "      <th></th>\n",
       "      <th>Time</th>\n",
       "      <th>Amount</th>\n",
       "      <th>Class</th>\n",
       "      <th>V3_log_transformed</th>\n",
       "      <th>V5_log_transformed</th>\n",
       "      <th>V7_log_transformed</th>\n",
       "      <th>V9_log_transformed</th>\n",
       "      <th>V10_log_transformed</th>\n",
       "      <th>V12_log_transformed</th>\n",
       "      <th>V14_log_transformed</th>\n",
       "      <th>...</th>\n",
       "      <th>V21_squared_transformed</th>\n",
       "      <th>V1_minmax_transformed</th>\n",
       "      <th>V4_minmax_transformed</th>\n",
       "      <th>V6_minmax_transformed</th>\n",
       "      <th>V8_minmax_transformed</th>\n",
       "      <th>V13_minmax_transformed</th>\n",
       "      <th>V22_minmax_transformed</th>\n",
       "      <th>V23_minmax_transformed</th>\n",
       "      <th>V25_minmax_transformed</th>\n",
       "      <th>V26_minmax_transformed</th>\n",
       "    </tr>\n",
       "  </thead>\n",
       "  <tbody>\n",
       "    <tr>\n",
       "      <th>0</th>\n",
       "      <td>0.0</td>\n",
       "      <td>149.62</td>\n",
       "      <td>0</td>\n",
       "      <td>3.931079</td>\n",
       "      <td>4.731847</td>\n",
       "      <td>3.781842</td>\n",
       "      <td>2.631734</td>\n",
       "      <td>3.209999</td>\n",
       "      <td>2.899547</td>\n",
       "      <td>2.944605</td>\n",
       "      <td>...</td>\n",
       "      <td>0.000335</td>\n",
       "      <td>0.935192</td>\n",
       "      <td>0.313023</td>\n",
       "      <td>0.267669</td>\n",
       "      <td>0.786444</td>\n",
       "      <td>0.371591</td>\n",
       "      <td>0.522992</td>\n",
       "      <td>0.663793</td>\n",
       "      <td>0.585122</td>\n",
       "      <td>0.394557</td>\n",
       "    </tr>\n",
       "    <tr>\n",
       "      <th>1</th>\n",
       "      <td>0.0</td>\n",
       "      <td>2.69</td>\n",
       "      <td>0</td>\n",
       "      <td>3.883460</td>\n",
       "      <td>4.735350</td>\n",
       "      <td>3.774563</td>\n",
       "      <td>2.586157</td>\n",
       "      <td>3.199542</td>\n",
       "      <td>2.988151</td>\n",
       "      <td>2.953375</td>\n",
       "      <td>...</td>\n",
       "      <td>0.050974</td>\n",
       "      <td>0.978542</td>\n",
       "      <td>0.271796</td>\n",
       "      <td>0.262192</td>\n",
       "      <td>0.786298</td>\n",
       "      <td>0.486190</td>\n",
       "      <td>0.480237</td>\n",
       "      <td>0.666938</td>\n",
       "      <td>0.587290</td>\n",
       "      <td>0.446013</td>\n",
       "    </tr>\n",
       "    <tr>\n",
       "      <th>2</th>\n",
       "      <td>1.0</td>\n",
       "      <td>378.66</td>\n",
       "      <td>0</td>\n",
       "      <td>3.915991</td>\n",
       "      <td>4.730393</td>\n",
       "      <td>3.794336</td>\n",
       "      <td>2.486523</td>\n",
       "      <td>3.214703</td>\n",
       "      <td>2.936502</td>\n",
       "      <td>2.952218</td>\n",
       "      <td>...</td>\n",
       "      <td>0.061503</td>\n",
       "      <td>0.935217</td>\n",
       "      <td>0.268766</td>\n",
       "      <td>0.281122</td>\n",
       "      <td>0.788042</td>\n",
       "      <td>0.503854</td>\n",
       "      <td>0.546030</td>\n",
       "      <td>0.678939</td>\n",
       "      <td>0.559515</td>\n",
       "      <td>0.402727</td>\n",
       "    </tr>\n",
       "    <tr>\n",
       "      <th>3</th>\n",
       "      <td>1.0</td>\n",
       "      <td>123.50</td>\n",
       "      <td>0</td>\n",
       "      <td>3.916385</td>\n",
       "      <td>4.734732</td>\n",
       "      <td>3.781797</td>\n",
       "      <td>2.497086</td>\n",
       "      <td>3.204100</td>\n",
       "      <td>2.942434</td>\n",
       "      <td>2.945828</td>\n",
       "      <td>...</td>\n",
       "      <td>0.011729</td>\n",
       "      <td>0.941878</td>\n",
       "      <td>0.213661</td>\n",
       "      <td>0.275559</td>\n",
       "      <td>0.789434</td>\n",
       "      <td>0.487635</td>\n",
       "      <td>0.510277</td>\n",
       "      <td>0.662607</td>\n",
       "      <td>0.614245</td>\n",
       "      <td>0.389197</td>\n",
       "    </tr>\n",
       "    <tr>\n",
       "      <th>4</th>\n",
       "      <td>2.0</td>\n",
       "      <td>69.99</td>\n",
       "      <td>0</td>\n",
       "      <td>3.911509</td>\n",
       "      <td>4.731240</td>\n",
       "      <td>3.789859</td>\n",
       "      <td>2.663876</td>\n",
       "      <td>3.236375</td>\n",
       "      <td>2.961240</td>\n",
       "      <td>2.901128</td>\n",
       "      <td>...</td>\n",
       "      <td>0.000089</td>\n",
       "      <td>0.938617</td>\n",
       "      <td>0.269796</td>\n",
       "      <td>0.263984</td>\n",
       "      <td>0.782484</td>\n",
       "      <td>0.552509</td>\n",
       "      <td>0.547271</td>\n",
       "      <td>0.663392</td>\n",
       "      <td>0.566343</td>\n",
       "      <td>0.507497</td>\n",
       "    </tr>\n",
       "  </tbody>\n",
       "</table>\n",
       "<p>5 rows × 31 columns</p>\n",
       "</div>"
      ],
      "text/plain": [
       "   Time  Amount  Class  V3_log_transformed  V5_log_transformed   \n",
       "0   0.0  149.62      0            3.931079            4.731847  \\\n",
       "1   0.0    2.69      0            3.883460            4.735350   \n",
       "2   1.0  378.66      0            3.915991            4.730393   \n",
       "3   1.0  123.50      0            3.916385            4.734732   \n",
       "4   2.0   69.99      0            3.911509            4.731240   \n",
       "\n",
       "   V7_log_transformed  V9_log_transformed  V10_log_transformed   \n",
       "0            3.781842            2.631734             3.209999  \\\n",
       "1            3.774563            2.586157             3.199542   \n",
       "2            3.794336            2.486523             3.214703   \n",
       "3            3.781797            2.497086             3.204100   \n",
       "4            3.789859            2.663876             3.236375   \n",
       "\n",
       "   V12_log_transformed  V14_log_transformed  ...  V21_squared_transformed   \n",
       "0             2.899547             2.944605  ...                 0.000335  \\\n",
       "1             2.988151             2.953375  ...                 0.050974   \n",
       "2             2.936502             2.952218  ...                 0.061503   \n",
       "3             2.942434             2.945828  ...                 0.011729   \n",
       "4             2.961240             2.901128  ...                 0.000089   \n",
       "\n",
       "   V1_minmax_transformed  V4_minmax_transformed  V6_minmax_transformed   \n",
       "0               0.935192               0.313023               0.267669  \\\n",
       "1               0.978542               0.271796               0.262192   \n",
       "2               0.935217               0.268766               0.281122   \n",
       "3               0.941878               0.213661               0.275559   \n",
       "4               0.938617               0.269796               0.263984   \n",
       "\n",
       "   V8_minmax_transformed  V13_minmax_transformed  V22_minmax_transformed   \n",
       "0               0.786444                0.371591                0.522992  \\\n",
       "1               0.786298                0.486190                0.480237   \n",
       "2               0.788042                0.503854                0.546030   \n",
       "3               0.789434                0.487635                0.510277   \n",
       "4               0.782484                0.552509                0.547271   \n",
       "\n",
       "   V23_minmax_transformed  V25_minmax_transformed  V26_minmax_transformed  \n",
       "0                0.663793                0.585122                0.394557  \n",
       "1                0.666938                0.587290                0.446013  \n",
       "2                0.678939                0.559515                0.402727  \n",
       "3                0.662607                0.614245                0.389197  \n",
       "4                0.663392                0.566343                0.507497  \n",
       "\n",
       "[5 rows x 31 columns]"
      ]
     },
     "execution_count": 12,
     "metadata": {},
     "output_type": "execute_result"
    }
   ],
   "source": [
    "from sklearn.preprocessing import MinMaxScaler\n",
    "#꼬리가 오른쪽으로 긴 변수\n",
    "pro_skew = ['V3', 'V5', 'V7','V9', 'V10', 'V12', 'V14', 'V15', 'V16', 'V17', 'V18', 'V24','V27', 'V28']\n",
    "neg_skew = ['V2', 'V11', 'V19', 'V20', 'V21']\n",
    "normal_col = ['V1', 'V4','V6', 'V8', 'V13', 'V22', 'V23', 'V25', 'V26' ]\n",
    "\n",
    "# pro_skew 로그변환 적용\n",
    "# 변수 내의 최소값이 0 이하인 경우, 모든 값을 조금 올려서 로그 변환이 가능하도록 조정\n",
    "if (data_cleaned[pro_skew].min() <= 0).any():  # .any()를 추가하여 Series 전체에서 하나라도 조건을 만족하는지 확인\n",
    "    for col in pro_skew:\n",
    "        if data_cleaned[col].min() <= 0:\n",
    "            data_cleaned[col] += abs(data_cleaned[col].min()) + 0.1\n",
    "\n",
    "for col in pro_skew:\n",
    "    data_cleaned[col + '_log_transformed'] = np.log(data_cleaned[col])\n",
    "\n",
    "\n",
    "# neg_skew는 음의 왜도.\n",
    "# 제곱 변환 적용\n",
    "for col in neg_skew:\n",
    "  data_cleaned[col + '_squared_transformed'] = data_cleaned[col] ** 2\n",
    "\n",
    "#normal_col\n",
    "# 정규화할 변수 리스트\n",
    "scaler = MinMaxScaler()\n",
    "for col in normal_col:\n",
    "    data_cleaned[col + '_minmax_transformed'] = scaler.fit_transform(data_cleaned[col].values.reshape(-1, 1)) # 2차원 배열로 바꿔서 실행\n",
    "\n",
    "\n",
    "# 적용 다한 column은 drop\n",
    "data_cleaned.drop(columns = pro_skew + normal_col + neg_skew, inplace = True)\n",
    "\n",
    "data_cleaned.head()"
   ]
  },
  {
   "cell_type": "code",
   "execution_count": 13,
   "metadata": {
    "colab": {
     "base_uri": "https://localhost:8080/"
    },
    "executionInfo": {
     "elapsed": 2,
     "status": "ok",
     "timestamp": 1699952786370,
     "user": {
      "displayName": "현예닮",
      "userId": "09810217778273348387"
     },
     "user_tz": -540
    },
    "id": "N9PTDErh7IVq",
    "outputId": "24ee5658-c2c4-4b0f-d30a-1d2371a5ce81"
   },
   "outputs": [
    {
     "data": {
      "text/plain": [
       "(566504, 31)"
      ]
     },
     "execution_count": 13,
     "metadata": {},
     "output_type": "execute_result"
    }
   ],
   "source": [
    "data_cleaned.shape"
   ]
  },
  {
   "cell_type": "code",
   "execution_count": 14,
   "metadata": {
    "colab": {
     "base_uri": "https://localhost:8080/",
     "height": 255
    },
    "executionInfo": {
     "elapsed": 5,
     "status": "ok",
     "timestamp": 1699952787877,
     "user": {
      "displayName": "현예닮",
      "userId": "09810217778273348387"
     },
     "user_tz": -540
    },
    "id": "R3kK7dD56fK5",
    "outputId": "64e67bf8-59d2-4a34-8d69-d459d2096a05"
   },
   "outputs": [
    {
     "data": {
      "text/html": [
       "<div>\n",
       "<style scoped>\n",
       "    .dataframe tbody tr th:only-of-type {\n",
       "        vertical-align: middle;\n",
       "    }\n",
       "\n",
       "    .dataframe tbody tr th {\n",
       "        vertical-align: top;\n",
       "    }\n",
       "\n",
       "    .dataframe thead th {\n",
       "        text-align: right;\n",
       "    }\n",
       "</style>\n",
       "<table border=\"1\" class=\"dataframe\">\n",
       "  <thead>\n",
       "    <tr style=\"text-align: right;\">\n",
       "      <th></th>\n",
       "      <th>Amount</th>\n",
       "      <th>Class</th>\n",
       "      <th>V3_log_transformed</th>\n",
       "      <th>V5_log_transformed</th>\n",
       "      <th>V7_log_transformed</th>\n",
       "      <th>V9_log_transformed</th>\n",
       "      <th>V10_log_transformed</th>\n",
       "      <th>V12_log_transformed</th>\n",
       "      <th>V14_log_transformed</th>\n",
       "      <th>V15_log_transformed</th>\n",
       "      <th>...</th>\n",
       "      <th>V21_squared_transformed</th>\n",
       "      <th>V1_minmax_transformed</th>\n",
       "      <th>V4_minmax_transformed</th>\n",
       "      <th>V6_minmax_transformed</th>\n",
       "      <th>V8_minmax_transformed</th>\n",
       "      <th>V13_minmax_transformed</th>\n",
       "      <th>V22_minmax_transformed</th>\n",
       "      <th>V23_minmax_transformed</th>\n",
       "      <th>V25_minmax_transformed</th>\n",
       "      <th>V26_minmax_transformed</th>\n",
       "    </tr>\n",
       "  </thead>\n",
       "  <tbody>\n",
       "    <tr>\n",
       "      <th>0</th>\n",
       "      <td>149.62</td>\n",
       "      <td>0</td>\n",
       "      <td>3.931079</td>\n",
       "      <td>4.731847</td>\n",
       "      <td>3.781842</td>\n",
       "      <td>2.631734</td>\n",
       "      <td>3.209999</td>\n",
       "      <td>2.899547</td>\n",
       "      <td>2.944605</td>\n",
       "      <td>1.802884</td>\n",
       "      <td>...</td>\n",
       "      <td>0.000335</td>\n",
       "      <td>0.935192</td>\n",
       "      <td>0.313023</td>\n",
       "      <td>0.267669</td>\n",
       "      <td>0.786444</td>\n",
       "      <td>0.371591</td>\n",
       "      <td>0.522992</td>\n",
       "      <td>0.663793</td>\n",
       "      <td>0.585122</td>\n",
       "      <td>0.394557</td>\n",
       "    </tr>\n",
       "    <tr>\n",
       "      <th>1</th>\n",
       "      <td>2.69</td>\n",
       "      <td>0</td>\n",
       "      <td>3.883460</td>\n",
       "      <td>4.735350</td>\n",
       "      <td>3.774563</td>\n",
       "      <td>2.586157</td>\n",
       "      <td>3.199542</td>\n",
       "      <td>2.988151</td>\n",
       "      <td>2.953375</td>\n",
       "      <td>1.655272</td>\n",
       "      <td>...</td>\n",
       "      <td>0.050974</td>\n",
       "      <td>0.978542</td>\n",
       "      <td>0.271796</td>\n",
       "      <td>0.262192</td>\n",
       "      <td>0.786298</td>\n",
       "      <td>0.486190</td>\n",
       "      <td>0.480237</td>\n",
       "      <td>0.666938</td>\n",
       "      <td>0.587290</td>\n",
       "      <td>0.446013</td>\n",
       "    </tr>\n",
       "    <tr>\n",
       "      <th>2</th>\n",
       "      <td>378.66</td>\n",
       "      <td>0</td>\n",
       "      <td>3.915991</td>\n",
       "      <td>4.730393</td>\n",
       "      <td>3.794336</td>\n",
       "      <td>2.486523</td>\n",
       "      <td>3.214703</td>\n",
       "      <td>2.936502</td>\n",
       "      <td>2.952218</td>\n",
       "      <td>1.937995</td>\n",
       "      <td>...</td>\n",
       "      <td>0.061503</td>\n",
       "      <td>0.935217</td>\n",
       "      <td>0.268766</td>\n",
       "      <td>0.281122</td>\n",
       "      <td>0.788042</td>\n",
       "      <td>0.503854</td>\n",
       "      <td>0.546030</td>\n",
       "      <td>0.678939</td>\n",
       "      <td>0.559515</td>\n",
       "      <td>0.402727</td>\n",
       "    </tr>\n",
       "    <tr>\n",
       "      <th>3</th>\n",
       "      <td>123.50</td>\n",
       "      <td>0</td>\n",
       "      <td>3.916385</td>\n",
       "      <td>4.734732</td>\n",
       "      <td>3.781797</td>\n",
       "      <td>2.497086</td>\n",
       "      <td>3.204100</td>\n",
       "      <td>2.942434</td>\n",
       "      <td>2.945828</td>\n",
       "      <td>1.378143</td>\n",
       "      <td>...</td>\n",
       "      <td>0.011729</td>\n",
       "      <td>0.941878</td>\n",
       "      <td>0.213661</td>\n",
       "      <td>0.275559</td>\n",
       "      <td>0.789434</td>\n",
       "      <td>0.487635</td>\n",
       "      <td>0.510277</td>\n",
       "      <td>0.662607</td>\n",
       "      <td>0.614245</td>\n",
       "      <td>0.389197</td>\n",
       "    </tr>\n",
       "    <tr>\n",
       "      <th>4</th>\n",
       "      <td>69.99</td>\n",
       "      <td>0</td>\n",
       "      <td>3.911509</td>\n",
       "      <td>4.731240</td>\n",
       "      <td>3.789859</td>\n",
       "      <td>2.663876</td>\n",
       "      <td>3.236375</td>\n",
       "      <td>2.961240</td>\n",
       "      <td>2.901128</td>\n",
       "      <td>1.563198</td>\n",
       "      <td>...</td>\n",
       "      <td>0.000089</td>\n",
       "      <td>0.938617</td>\n",
       "      <td>0.269796</td>\n",
       "      <td>0.263984</td>\n",
       "      <td>0.782484</td>\n",
       "      <td>0.552509</td>\n",
       "      <td>0.547271</td>\n",
       "      <td>0.663392</td>\n",
       "      <td>0.566343</td>\n",
       "      <td>0.507497</td>\n",
       "    </tr>\n",
       "  </tbody>\n",
       "</table>\n",
       "<p>5 rows × 30 columns</p>\n",
       "</div>"
      ],
      "text/plain": [
       "   Amount  Class  V3_log_transformed  V5_log_transformed  V7_log_transformed   \n",
       "0  149.62      0            3.931079            4.731847            3.781842  \\\n",
       "1    2.69      0            3.883460            4.735350            3.774563   \n",
       "2  378.66      0            3.915991            4.730393            3.794336   \n",
       "3  123.50      0            3.916385            4.734732            3.781797   \n",
       "4   69.99      0            3.911509            4.731240            3.789859   \n",
       "\n",
       "   V9_log_transformed  V10_log_transformed  V12_log_transformed   \n",
       "0            2.631734             3.209999             2.899547  \\\n",
       "1            2.586157             3.199542             2.988151   \n",
       "2            2.486523             3.214703             2.936502   \n",
       "3            2.497086             3.204100             2.942434   \n",
       "4            2.663876             3.236375             2.961240   \n",
       "\n",
       "   V14_log_transformed  V15_log_transformed  ...  V21_squared_transformed   \n",
       "0             2.944605             1.802884  ...                 0.000335  \\\n",
       "1             2.953375             1.655272  ...                 0.050974   \n",
       "2             2.952218             1.937995  ...                 0.061503   \n",
       "3             2.945828             1.378143  ...                 0.011729   \n",
       "4             2.901128             1.563198  ...                 0.000089   \n",
       "\n",
       "   V1_minmax_transformed  V4_minmax_transformed  V6_minmax_transformed   \n",
       "0               0.935192               0.313023               0.267669  \\\n",
       "1               0.978542               0.271796               0.262192   \n",
       "2               0.935217               0.268766               0.281122   \n",
       "3               0.941878               0.213661               0.275559   \n",
       "4               0.938617               0.269796               0.263984   \n",
       "\n",
       "   V8_minmax_transformed  V13_minmax_transformed  V22_minmax_transformed   \n",
       "0               0.786444                0.371591                0.522992  \\\n",
       "1               0.786298                0.486190                0.480237   \n",
       "2               0.788042                0.503854                0.546030   \n",
       "3               0.789434                0.487635                0.510277   \n",
       "4               0.782484                0.552509                0.547271   \n",
       "\n",
       "   V23_minmax_transformed  V25_minmax_transformed  V26_minmax_transformed  \n",
       "0                0.663793                0.585122                0.394557  \n",
       "1                0.666938                0.587290                0.446013  \n",
       "2                0.678939                0.559515                0.402727  \n",
       "3                0.662607                0.614245                0.389197  \n",
       "4                0.663392                0.566343                0.507497  \n",
       "\n",
       "[5 rows x 30 columns]"
      ]
     },
     "execution_count": 14,
     "metadata": {},
     "output_type": "execute_result"
    }
   ],
   "source": [
    "data_cleaned.drop(columns=['Time'], inplace = True)\n",
    "\n",
    "data_cleaned.head()"
   ]
  },
  {
   "cell_type": "markdown",
   "metadata": {
    "id": "prQwYVW8_xNX"
   },
   "source": [
    "# Modeling"
   ]
  },
  {
   "cell_type": "code",
   "execution_count": 15,
   "metadata": {
    "id": "tZWdWILF_onp"
   },
   "outputs": [
    {
     "name": "stdout",
     "output_type": "stream",
     "text": [
      "Validation Accuracy: 0.6954395812923099\n",
      "Validation Classification Report:\n",
      "               precision    recall  f1-score   support\n",
      "\n",
      "           0       0.62      0.99      0.76     56517\n",
      "           1       0.97      0.40      0.57     56784\n",
      "\n",
      "    accuracy                           0.70    113301\n",
      "   macro avg       0.80      0.70      0.67    113301\n",
      "weighted avg       0.80      0.70      0.67    113301\n",
      "\n"
     ]
    }
   ],
   "source": [
    "from sklearn.model_selection import train_test_split\n",
    "from sklearn.svm import SVC\n",
    "from sklearn.metrics import classification_report, accuracy_score\n",
    "SEED = 42\n",
    "\n",
    "# Split the data into features and target variable\n",
    "X = data_cleaned.drop(columns=[ 'Class'])  # Features\n",
    "y = data_cleaned['Class']\n",
    "                   # Target variable\n",
    "X_train, X_val, y_train, y_val = train_test_split(X, y, test_size=0.2, random_state=42)\n",
    "\n",
    "# 비선형 SVM 분류기 초기화 (RBF 커널 사용)\n",
    "svm_model = SVC(kernel='poly', random_state=SEED)\n",
    "\n",
    "# 모델 훈련\n",
    "svm_model.fit(X_train, y_train)\n",
    "\n",
    "# 검증 세트에 대한 예측 수행\n",
    "y_val_pred = svm_model.predict(X_val)\n",
    "\n",
    "# 검증 세트에 대한 모델 성능 평가\n",
    "val_accuracy = accuracy_score(y_val, y_val_pred)\n",
    "val_classification_report = classification_report(y_val, y_val_pred)\n",
    "\n",
    "print(\"Validation Accuracy:\", val_accuracy)\n",
    "print(\"Validation Classification Report:\\n\", val_classification_report)\n",
    "\n"
   ]
  },
  {
   "cell_type": "code",
   "execution_count": 16,
   "metadata": {
    "id": "kYvPRQhFACWZ"
   },
   "outputs": [
    {
     "name": "stdout",
     "output_type": "stream",
     "text": [
      "0.6954395812923099\n",
      "---------------------------------------------------------\n",
      "              precision    recall  f1-score   support\n",
      "\n",
      "           0       0.62      0.99      0.76     56517\n",
      "           1       0.97      0.40      0.57     56784\n",
      "\n",
      "    accuracy                           0.70    113301\n",
      "   macro avg       0.80      0.70      0.67    113301\n",
      "weighted avg       0.80      0.70      0.67    113301\n",
      "\n"
     ]
    }
   ],
   "source": [
    "print(val_accuracy)\n",
    "print('---------------------------------------------------------')\n",
    "print(val_classification_report)"
   ]
  },
  {
   "cell_type": "code",
   "execution_count": null,
   "metadata": {},
   "outputs": [],
   "source": []
  }
 ],
 "metadata": {
  "accelerator": "GPU",
  "colab": {
   "authorship_tag": "ABX9TyM7/wXds5D2peqYcZViB8xj",
   "gpuType": "T4",
   "provenance": []
  },
  "kernelspec": {
   "display_name": "Python 3 (ipykernel)",
   "language": "python",
   "name": "python3"
  },
  "language_info": {
   "codemirror_mode": {
    "name": "ipython",
    "version": 3
   },
   "file_extension": ".py",
   "mimetype": "text/x-python",
   "name": "python",
   "nbconvert_exporter": "python",
   "pygments_lexer": "ipython3",
   "version": "3.9.7"
  }
 },
 "nbformat": 4,
 "nbformat_minor": 1
}
